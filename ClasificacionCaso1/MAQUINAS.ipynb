{
 "cells": [
  {
   "cell_type": "markdown",
   "id": "40ffc394",
   "metadata": {},
   "source": [
    "### Modelos de Clasificación\n",
    "\n",
    "1. **Entendimiento del negocio**  \n",
    "2. **Entendimiento de los datos**  \n",
    "3. **Preparación de los datos**  \n",
    "4. **Modelado**  \n",
    "5. **Evaluación**  \n",
    "6. **Despliegue (conclusiones)**   \n",
    "\n",
    "### 1. ENTENDIMIENTO DEL NEGOCIO:\n",
    "Estamos trabajando para un hospital el cual necesita un modelo de lcasificación para determinar si un paciente es diabetico, prediabetico o no\n",
    "\n",
    "**Enfoque Análitico**  \n",
    "Este modelo debe tener una prescición minima del 85% y encontrar la mejor matriz de confusión y f1 score   \n",
    "\n",
    "**Requerimiento de los datos**  \n",
    "- Health data\n",
    "- Habits data \n",
    "- Personal data \n",
    "- Diabetes, PreDiabetes, NoDiabetes\n",
    "\n",
    "\n",
    "\n",
    "\n",
    "![Texto alternativo](img/foto2.jpg)\n",
    "![Texto alternativo](img/foto1.jpg)\n",
    "\n"
   ]
  },
  {
   "cell_type": "code",
   "execution_count": 1,
   "id": "d3d44399",
   "metadata": {},
   "outputs": [],
   "source": [
    "import pandas as pd\n",
    "import numpy as np\n",
    "import warnings\n",
    "import matplotlib.pyplot as plt\n",
    "import seaborn as sb\n",
    "warnings.filterwarnings('ignore')\n",
    "\n",
    "data = pd.read_csv('datos_caso_1.csv')"
   ]
  },
  {
   "cell_type": "markdown",
   "id": "71fa2b3d",
   "metadata": {},
   "source": [
    "### 2. Entendimiento de los datos   \n",
    "- Datos nulos\n",
    "- Estadísticas univariada, bivariada y multivariada\n",
    "- Desbalance de y"
   ]
  },
  {
   "cell_type": "markdown",
   "id": "5fe1d812",
   "metadata": {},
   "source": [
    "No tenemos datos nulos en nuestro data set entonces no tenemos que imputar  \n",
    "#### Exploración Univariada de datos "
   ]
  },
  {
   "cell_type": "markdown",
   "id": "d867f37c",
   "metadata": {},
   "source": [
    "Las variables se comportan todas de manera consecuente a lo que nos dice el diccionario"
   ]
  },
  {
   "cell_type": "markdown",
   "id": "36fa1614",
   "metadata": {},
   "source": [
    "Podemos ver que Y está desbalanceada, 0 (No diabetes) equivale a más del 80%"
   ]
  },
  {
   "cell_type": "markdown",
   "id": "bbc549ab",
   "metadata": {},
   "source": [
    "### 3. Preparación de los datos \n",
    "- Balanceo de variable y, inicialmente haremos el balanceo con replicación aleatoria "
   ]
  },
  {
   "cell_type": "code",
   "execution_count": 2,
   "id": "164e8a9d",
   "metadata": {},
   "outputs": [
    {
     "name": "stdout",
     "output_type": "stream",
     "text": [
      "High: (35346, 22), Medium: (4631, 22), Low: (213703, 22)\n"
     ]
    }
   ],
   "source": [
    "\n",
    "data_Diabetico= data[data['Diabetes_012'] == 2]\n",
    "data_PreDiabetico = data[data['Diabetes_012'] == 1]\n",
    "data_NoDiabetico = data[data['Diabetes_012'] == 0]\n",
    "\n",
    "print(f\"High: {data_Diabetico.shape}, Medium: {data_PreDiabetico.shape}, Low: {data_NoDiabetico.shape}\")"
   ]
  },
  {
   "cell_type": "code",
   "execution_count": 3,
   "id": "dd6000c9",
   "metadata": {},
   "outputs": [
    {
     "name": "stdout",
     "output_type": "stream",
     "text": [
      "<class 'pandas.core.frame.DataFrame'>\n",
      "RangeIndex: 641109 entries, 0 to 641108\n",
      "Data columns (total 22 columns):\n",
      " #   Column                Non-Null Count   Dtype  \n",
      "---  ------                --------------   -----  \n",
      " 0   Diabetes_012          641109 non-null  float64\n",
      " 1   HighBP                641109 non-null  float64\n",
      " 2   HighChol              641109 non-null  float64\n",
      " 3   CholCheck             641109 non-null  float64\n",
      " 4   BMI                   641109 non-null  float64\n",
      " 5   Smoker                641109 non-null  float64\n",
      " 6   Stroke                641109 non-null  float64\n",
      " 7   HeartDiseaseorAttack  641109 non-null  float64\n",
      " 8   PhysActivity          641109 non-null  float64\n",
      " 9   Fruits                641109 non-null  float64\n",
      " 10  Veggies               641109 non-null  float64\n",
      " 11  HvyAlcoholConsump     641109 non-null  float64\n",
      " 12  AnyHealthcare         641109 non-null  float64\n",
      " 13  NoDocbcCost           641109 non-null  float64\n",
      " 14  GenHlth               641109 non-null  float64\n",
      " 15  MentHlth              641109 non-null  float64\n",
      " 16  PhysHlth              641109 non-null  float64\n",
      " 17  DiffWalk              641109 non-null  float64\n",
      " 18  Sex                   641109 non-null  float64\n",
      " 19  Age                   641109 non-null  float64\n",
      " 20  Education             641109 non-null  float64\n",
      " 21  Income                641109 non-null  float64\n",
      "dtypes: float64(22)\n",
      "memory usage: 107.6 MB\n",
      "High: (213703, 22), Medium: (213703, 22), Low: 213703\n"
     ]
    }
   ],
   "source": [
    "# oversampling para balancear la variable \n",
    "data_Diabetico_over = data_Diabetico.sample(data_NoDiabetico.shape[0], replace=True)\n",
    "data_PreDiabetico_over = data_PreDiabetico.sample(data_NoDiabetico.shape[0], replace=True)\n",
    "\n",
    "data_balanced = pd.concat([data_Diabetico_over, data_PreDiabetico_over, data_NoDiabetico])\n",
    "data_balanced.reset_index(drop = True, inplace = True)\n",
    "data_balanced.info()\n",
    "print(f\"High: {data_Diabetico_over.shape}, Medium: {data_PreDiabetico_over.shape}, Low: {data_NoDiabetico.shape[0]}\")"
   ]
  },
  {
   "cell_type": "code",
   "execution_count": 4,
   "id": "d13c3094",
   "metadata": {},
   "outputs": [
    {
     "data": {
      "image/png": "[encoded data removed]",
      "text/plain": [
       "<Figure size 300x300 with 1 Axes>"
      ]
     },
     "metadata": {},
     "output_type": "display_data"
    }
   ],
   "source": [
    "plt.figure(figsize=(3, 3))\n",
    "data_balanced['Diabetes_012'].value_counts().plot.pie(\n",
    "    autopct='%1.1f%%',\n",
    "    colors=plt.cm.Paired.colors,\n",
    "    labels=data_balanced['Diabetes_012'].value_counts().index\n",
    ")\n",
    "plt.title('Distribución de la variable Diabetes_012')\n",
    "plt.ylabel('')\n",
    "plt.show()"
   ]
  },
  {
   "cell_type": "markdown",
   "id": "c31bed42",
   "metadata": {},
   "source": [
    "Separaremos la X y la Y para poder hacer la codificación y separar la población de entreno y de testeo "
   ]
  },
  {
   "cell_type": "code",
   "execution_count": 5,
   "id": "5313e63c",
   "metadata": {},
   "outputs": [
    {
     "name": "stdout",
     "output_type": "stream",
     "text": [
      "el tamaño de X es: (641109, 21), el tamaño de y es: (641109, 1)\n"
     ]
    }
   ],
   "source": [
    "x = data_balanced.drop(columns = ['Diabetes_012'])\n",
    "y = data_balanced[['Diabetes_012']]\n",
    "\n",
    "print(f'el tamaño de X es: {x.shape}, el tamaño de y es: {y.shape}')"
   ]
  },
  {
   "cell_type": "code",
   "execution_count": 6,
   "id": "ac6d920d",
   "metadata": {},
   "outputs": [
    {
     "data": {
      "text/html": [
       "<style>#sk-container-id-1 {\n",
       "  /* Definition of color scheme common for light and dark mode */\n",
       "  --sklearn-color-text: #000;\n",
       "  --sklearn-color-text-muted: #666;\n",
       "  --sklearn-color-line: gray;\n",
       "  /* Definition of color scheme for unfitted estimators */\n",
       "  --sklearn-color-unfitted-level-0: #fff5e6;\n",
       "  --sklearn-color-unfitted-level-1: #f6e4d2;\n",
       "  --sklearn-color-unfitted-level-2: #ffe0b3;\n",
       "  --sklearn-color-unfitted-level-3: chocolate;\n",
       "  /* Definition of color scheme for fitted estimators */\n",
       "  --sklearn-color-fitted-level-0: #f0f8ff;\n",
       "  --sklearn-color-fitted-level-1: #d4ebff;\n",
       "  --sklearn-color-fitted-level-2: #b3dbfd;\n",
       "  --sklearn-color-fitted-level-3: cornflowerblue;\n",
       "\n",
       "  /* Specific color for light theme */\n",
       "  --sklearn-color-text-on-default-background: var(--sg-text-color, var(--theme-code-foreground, var(--jp-content-font-color1, black)));\n",
       "  --sklearn-color-background: var(--sg-background-color, var(--theme-background, var(--jp-layout-color0, white)));\n",
       "  --sklearn-color-border-box: var(--sg-text-color, var(--theme-code-foreground, var(--jp-content-font-color1, black)));\n",
       "  --sklearn-color-icon: #696969;\n",
       "\n",
       "  @media (prefers-color-scheme: dark) {\n",
       "    /* Redefinition of color scheme for dark theme */\n",
       "    --sklearn-color-text-on-default-background: var(--sg-text-color, var(--theme-code-foreground, var(--jp-content-font-color1, white)));\n",
       "    --sklearn-color-background: var(--sg-background-color, var(--theme-background, var(--jp-layout-color0, #111)));\n",
       "    --sklearn-color-border-box: var(--sg-text-color, var(--theme-code-foreground, var(--jp-content-font-color1, white)));\n",
       "    --sklearn-color-icon: #878787;\n",
       "  }\n",
       "}\n",
       "\n",
       "#sk-container-id-1 {\n",
       "  color: var(--sklearn-color-text);\n",
       "}\n",
       "\n",
       "#sk-container-id-1 pre {\n",
       "  padding: 0;\n",
       "}\n",
       "\n",
       "#sk-container-id-1 input.sk-hidden--visually {\n",
       "  border: 0;\n",
       "  clip: rect(1px 1px 1px 1px);\n",
       "  clip: rect(1px, 1px, 1px, 1px);\n",
       "  height: 1px;\n",
       "  margin: -1px;\n",
       "  overflow: hidden;\n",
       "  padding: 0;\n",
       "  position: absolute;\n",
       "  width: 1px;\n",
       "}\n",
       "\n",
       "#sk-container-id-1 div.sk-dashed-wrapped {\n",
       "  border: 1px dashed var(--sklearn-color-line);\n",
       "  margin: 0 0.4em 0.5em 0.4em;\n",
       "  box-sizing: border-box;\n",
       "  padding-bottom: 0.4em;\n",
       "  background-color: var(--sklearn-color-background);\n",
       "}\n",
       "\n",
       "#sk-container-id-1 div.sk-container {\n",
       "  /* jupyter's `normalize.less` sets `[hidden] { display: none; }`\n",
       "     but bootstrap.min.css set `[hidden] { display: none !important; }`\n",
       "     so we also need the `!important` here to be able to override the\n",
       "     default hidden behavior on the sphinx rendered scikit-learn.org.\n",
       "     See: https://github.com/scikit-learn/scikit-learn/issues/21755 */\n",
       "  display: inline-block !important;\n",
       "  position: relative;\n",
       "}\n",
       "\n",
       "#sk-container-id-1 div.sk-text-repr-fallback {\n",
       "  display: none;\n",
       "}\n",
       "\n",
       "div.sk-parallel-item,\n",
       "div.sk-serial,\n",
       "div.sk-item {\n",
       "  /* draw centered vertical line to link estimators */\n",
       "  background-image: linear-gradient(var(--sklearn-color-text-on-default-background), var(--sklearn-color-text-on-default-background));\n",
       "  background-size: 2px 100%;\n",
       "  background-repeat: no-repeat;\n",
       "  background-position: center center;\n",
       "}\n",
       "\n",
       "/* Parallel-specific style estimator block */\n",
       "\n",
       "#sk-container-id-1 div.sk-parallel-item::after {\n",
       "  content: \"\";\n",
       "  width: 100%;\n",
       "  border-bottom: 2px solid var(--sklearn-color-text-on-default-background);\n",
       "  flex-grow: 1;\n",
       "}\n",
       "\n",
       "#sk-container-id-1 div.sk-parallel {\n",
       "  display: flex;\n",
       "  align-items: stretch;\n",
       "  justify-content: center;\n",
       "  background-color: var(--sklearn-color-background);\n",
       "  position: relative;\n",
       "}\n",
       "\n",
       "#sk-container-id-1 div.sk-parallel-item {\n",
       "  display: flex;\n",
       "  flex-direction: column;\n",
       "}\n",
       "\n",
       "#sk-container-id-1 div.sk-parallel-item:first-child::after {\n",
       "  align-self: flex-end;\n",
       "  width: 50%;\n",
       "}\n",
       "\n",
       "#sk-container-id-1 div.sk-parallel-item:last-child::after {\n",
       "  align-self: flex-start;\n",
       "  width: 50%;\n",
       "}\n",
       "\n",
       "#sk-container-id-1 div.sk-parallel-item:only-child::after {\n",
       "  width: 0;\n",
       "}\n",
       "\n",
       "/* Serial-specific style estimator block */\n",
       "\n",
       "#sk-container-id-1 div.sk-serial {\n",
       "  display: flex;\n",
       "  flex-direction: column;\n",
       "  align-items: center;\n",
       "  background-color: var(--sklearn-color-background);\n",
       "  padding-right: 1em;\n",
       "  padding-left: 1em;\n",
       "}\n",
       "\n",
       "\n",
       "/* Toggleable style: style used for estimator/Pipeline/ColumnTransformer box that is\n",
       "clickable and can be expanded/collapsed.\n",
       "- Pipeline and ColumnTransformer use this feature and define the default style\n",
       "- Estimators will overwrite some part of the style using the `sk-estimator` class\n",
       "*/\n",
       "\n",
       "/* Pipeline and ColumnTransformer style (default) */\n",
       "\n",
       "#sk-container-id-1 div.sk-toggleable {\n",
       "  /* Default theme specific background. It is overwritten whether we have a\n",
       "  specific estimator or a Pipeline/ColumnTransformer */\n",
       "  background-color: var(--sklearn-color-background);\n",
       "}\n",
       "\n",
       "/* Toggleable label */\n",
       "#sk-container-id-1 label.sk-toggleable__label {\n",
       "  cursor: pointer;\n",
       "  display: flex;\n",
       "  width: 100%;\n",
       "  margin-bottom: 0;\n",
       "  padding: 0.5em;\n",
       "  box-sizing: border-box;\n",
       "  text-align: center;\n",
       "  align-items: start;\n",
       "  justify-content: space-between;\n",
       "  gap: 0.5em;\n",
       "}\n",
       "\n",
       "#sk-container-id-1 label.sk-toggleable__label .caption {\n",
       "  font-size: 0.6rem;\n",
       "  font-weight: lighter;\n",
       "  color: var(--sklearn-color-text-muted);\n",
       "}\n",
       "\n",
       "#sk-container-id-1 label.sk-toggleable__label-arrow:before {\n",
       "  /* Arrow on the left of the label */\n",
       "  content: \"▸\";\n",
       "  float: left;\n",
       "  margin-right: 0.25em;\n",
       "  color: var(--sklearn-color-icon);\n",
       "}\n",
       "\n",
       "#sk-container-id-1 label.sk-toggleable__label-arrow:hover:before {\n",
       "  color: var(--sklearn-color-text);\n",
       "}\n",
       "\n",
       "/* Toggleable content - dropdown */\n",
       "\n",
       "#sk-container-id-1 div.sk-toggleable__content {\n",
       "  max-height: 0;\n",
       "  max-width: 0;\n",
       "  overflow: hidden;\n",
       "  text-align: left;\n",
       "  /* unfitted */\n",
       "  background-color: var(--sklearn-color-unfitted-level-0);\n",
       "}\n",
       "\n",
       "#sk-container-id-1 div.sk-toggleable__content.fitted {\n",
       "  /* fitted */\n",
       "  background-color: var(--sklearn-color-fitted-level-0);\n",
       "}\n",
       "\n",
       "#sk-container-id-1 div.sk-toggleable__content pre {\n",
       "  margin: 0.2em;\n",
       "  border-radius: 0.25em;\n",
       "  color: var(--sklearn-color-text);\n",
       "  /* unfitted */\n",
       "  background-color: var(--sklearn-color-unfitted-level-0);\n",
       "}\n",
       "\n",
       "#sk-container-id-1 div.sk-toggleable__content.fitted pre {\n",
       "  /* unfitted */\n",
       "  background-color: var(--sklearn-color-fitted-level-0);\n",
       "}\n",
       "\n",
       "#sk-container-id-1 input.sk-toggleable__control:checked~div.sk-toggleable__content {\n",
       "  /* Expand drop-down */\n",
       "  max-height: 200px;\n",
       "  max-width: 100%;\n",
       "  overflow: auto;\n",
       "}\n",
       "\n",
       "#sk-container-id-1 input.sk-toggleable__control:checked~label.sk-toggleable__label-arrow:before {\n",
       "  content: \"▾\";\n",
       "}\n",
       "\n",
       "/* Pipeline/ColumnTransformer-specific style */\n",
       "\n",
       "#sk-container-id-1 div.sk-label input.sk-toggleable__control:checked~label.sk-toggleable__label {\n",
       "  color: var(--sklearn-color-text);\n",
       "  background-color: var(--sklearn-color-unfitted-level-2);\n",
       "}\n",
       "\n",
       "#sk-container-id-1 div.sk-label.fitted input.sk-toggleable__control:checked~label.sk-toggleable__label {\n",
       "  background-color: var(--sklearn-color-fitted-level-2);\n",
       "}\n",
       "\n",
       "/* Estimator-specific style */\n",
       "\n",
       "/* Colorize estimator box */\n",
       "#sk-container-id-1 div.sk-estimator input.sk-toggleable__control:checked~label.sk-toggleable__label {\n",
       "  /* unfitted */\n",
       "  background-color: var(--sklearn-color-unfitted-level-2);\n",
       "}\n",
       "\n",
       "#sk-container-id-1 div.sk-estimator.fitted input.sk-toggleable__control:checked~label.sk-toggleable__label {\n",
       "  /* fitted */\n",
       "  background-color: var(--sklearn-color-fitted-level-2);\n",
       "}\n",
       "\n",
       "#sk-container-id-1 div.sk-label label.sk-toggleable__label,\n",
       "#sk-container-id-1 div.sk-label label {\n",
       "  /* The background is the default theme color */\n",
       "  color: var(--sklearn-color-text-on-default-background);\n",
       "}\n",
       "\n",
       "/* On hover, darken the color of the background */\n",
       "#sk-container-id-1 div.sk-label:hover label.sk-toggleable__label {\n",
       "  color: var(--sklearn-color-text);\n",
       "  background-color: var(--sklearn-color-unfitted-level-2);\n",
       "}\n",
       "\n",
       "/* Label box, darken color on hover, fitted */\n",
       "#sk-container-id-1 div.sk-label.fitted:hover label.sk-toggleable__label.fitted {\n",
       "  color: var(--sklearn-color-text);\n",
       "  background-color: var(--sklearn-color-fitted-level-2);\n",
       "}\n",
       "\n",
       "/* Estimator label */\n",
       "\n",
       "#sk-container-id-1 div.sk-label label {\n",
       "  font-family: monospace;\n",
       "  font-weight: bold;\n",
       "  display: inline-block;\n",
       "  line-height: 1.2em;\n",
       "}\n",
       "\n",
       "#sk-container-id-1 div.sk-label-container {\n",
       "  text-align: center;\n",
       "}\n",
       "\n",
       "/* Estimator-specific */\n",
       "#sk-container-id-1 div.sk-estimator {\n",
       "  font-family: monospace;\n",
       "  border: 1px dotted var(--sklearn-color-border-box);\n",
       "  border-radius: 0.25em;\n",
       "  box-sizing: border-box;\n",
       "  margin-bottom: 0.5em;\n",
       "  /* unfitted */\n",
       "  background-color: var(--sklearn-color-unfitted-level-0);\n",
       "}\n",
       "\n",
       "#sk-container-id-1 div.sk-estimator.fitted {\n",
       "  /* fitted */\n",
       "  background-color: var(--sklearn-color-fitted-level-0);\n",
       "}\n",
       "\n",
       "/* on hover */\n",
       "#sk-container-id-1 div.sk-estimator:hover {\n",
       "  /* unfitted */\n",
       "  background-color: var(--sklearn-color-unfitted-level-2);\n",
       "}\n",
       "\n",
       "#sk-container-id-1 div.sk-estimator.fitted:hover {\n",
       "  /* fitted */\n",
       "  background-color: var(--sklearn-color-fitted-level-2);\n",
       "}\n",
       "\n",
       "/* Specification for estimator info (e.g. \"i\" and \"?\") */\n",
       "\n",
       "/* Common style for \"i\" and \"?\" */\n",
       "\n",
       ".sk-estimator-doc-link,\n",
       "a:link.sk-estimator-doc-link,\n",
       "a:visited.sk-estimator-doc-link {\n",
       "  float: right;\n",
       "  font-size: smaller;\n",
       "  line-height: 1em;\n",
       "  font-family: monospace;\n",
       "  background-color: var(--sklearn-color-background);\n",
       "  border-radius: 1em;\n",
       "  height: 1em;\n",
       "  width: 1em;\n",
       "  text-decoration: none !important;\n",
       "  margin-left: 0.5em;\n",
       "  text-align: center;\n",
       "  /* unfitted */\n",
       "  border: var(--sklearn-color-unfitted-level-1) 1pt solid;\n",
       "  color: var(--sklearn-color-unfitted-level-1);\n",
       "}\n",
       "\n",
       ".sk-estimator-doc-link.fitted,\n",
       "a:link.sk-estimator-doc-link.fitted,\n",
       "a:visited.sk-estimator-doc-link.fitted {\n",
       "  /* fitted */\n",
       "  border: var(--sklearn-color-fitted-level-1) 1pt solid;\n",
       "  color: var(--sklearn-color-fitted-level-1);\n",
       "}\n",
       "\n",
       "/* On hover */\n",
       "div.sk-estimator:hover .sk-estimator-doc-link:hover,\n",
       ".sk-estimator-doc-link:hover,\n",
       "div.sk-label-container:hover .sk-estimator-doc-link:hover,\n",
       ".sk-estimator-doc-link:hover {\n",
       "  /* unfitted */\n",
       "  background-color: var(--sklearn-color-unfitted-level-3);\n",
       "  color: var(--sklearn-color-background);\n",
       "  text-decoration: none;\n",
       "}\n",
       "\n",
       "div.sk-estimator.fitted:hover .sk-estimator-doc-link.fitted:hover,\n",
       ".sk-estimator-doc-link.fitted:hover,\n",
       "div.sk-label-container:hover .sk-estimator-doc-link.fitted:hover,\n",
       ".sk-estimator-doc-link.fitted:hover {\n",
       "  /* fitted */\n",
       "  background-color: var(--sklearn-color-fitted-level-3);\n",
       "  color: var(--sklearn-color-background);\n",
       "  text-decoration: none;\n",
       "}\n",
       "\n",
       "/* Span, style for the box shown on hovering the info icon */\n",
       ".sk-estimator-doc-link span {\n",
       "  display: none;\n",
       "  z-index: 9999;\n",
       "  position: relative;\n",
       "  font-weight: normal;\n",
       "  right: .2ex;\n",
       "  padding: .5ex;\n",
       "  margin: .5ex;\n",
       "  width: min-content;\n",
       "  min-width: 20ex;\n",
       "  max-width: 50ex;\n",
       "  color: var(--sklearn-color-text);\n",
       "  box-shadow: 2pt 2pt 4pt #999;\n",
       "  /* unfitted */\n",
       "  background: var(--sklearn-color-unfitted-level-0);\n",
       "  border: .5pt solid var(--sklearn-color-unfitted-level-3);\n",
       "}\n",
       "\n",
       ".sk-estimator-doc-link.fitted span {\n",
       "  /* fitted */\n",
       "  background: var(--sklearn-color-fitted-level-0);\n",
       "  border: var(--sklearn-color-fitted-level-3);\n",
       "}\n",
       "\n",
       ".sk-estimator-doc-link:hover span {\n",
       "  display: block;\n",
       "}\n",
       "\n",
       "/* \"?\"-specific style due to the `<a>` HTML tag */\n",
       "\n",
       "#sk-container-id-1 a.estimator_doc_link {\n",
       "  float: right;\n",
       "  font-size: 1rem;\n",
       "  line-height: 1em;\n",
       "  font-family: monospace;\n",
       "  background-color: var(--sklearn-color-background);\n",
       "  border-radius: 1rem;\n",
       "  height: 1rem;\n",
       "  width: 1rem;\n",
       "  text-decoration: none;\n",
       "  /* unfitted */\n",
       "  color: var(--sklearn-color-unfitted-level-1);\n",
       "  border: var(--sklearn-color-unfitted-level-1) 1pt solid;\n",
       "}\n",
       "\n",
       "#sk-container-id-1 a.estimator_doc_link.fitted {\n",
       "  /* fitted */\n",
       "  border: var(--sklearn-color-fitted-level-1) 1pt solid;\n",
       "  color: var(--sklearn-color-fitted-level-1);\n",
       "}\n",
       "\n",
       "/* On hover */\n",
       "#sk-container-id-1 a.estimator_doc_link:hover {\n",
       "  /* unfitted */\n",
       "  background-color: var(--sklearn-color-unfitted-level-3);\n",
       "  color: var(--sklearn-color-background);\n",
       "  text-decoration: none;\n",
       "}\n",
       "\n",
       "#sk-container-id-1 a.estimator_doc_link.fitted:hover {\n",
       "  /* fitted */\n",
       "  background-color: var(--sklearn-color-fitted-level-3);\n",
       "}\n",
       "</style><div id=\"sk-container-id-1\" class=\"sk-top-container\"><div class=\"sk-text-repr-fallback\"><pre>ColumnTransformer(transformers=[(&#x27;num&#x27;,\n",
       "                                 Pipeline(steps=[(&#x27;scaler&#x27;, MinMaxScaler())]),\n",
       "                                 [&#x27;HighBP&#x27;, &#x27;HighChol&#x27;, &#x27;CholCheck&#x27;, &#x27;BMI&#x27;,\n",
       "                                  &#x27;Smoker&#x27;, &#x27;Stroke&#x27;, &#x27;HeartDiseaseorAttack&#x27;,\n",
       "                                  &#x27;PhysActivity&#x27;, &#x27;Fruits&#x27;, &#x27;Veggies&#x27;,\n",
       "                                  &#x27;HvyAlcoholConsump&#x27;, &#x27;AnyHealthcare&#x27;,\n",
       "                                  &#x27;NoDocbcCost&#x27;, &#x27;GenHlth&#x27;, &#x27;MentHlth&#x27;,\n",
       "                                  &#x27;PhysHlth&#x27;, &#x27;DiffWalk&#x27;, &#x27;Sex&#x27;, &#x27;Age&#x27;,\n",
       "                                  &#x27;Education&#x27;, &#x27;Income&#x27;])])</pre><b>In a Jupyter environment, please rerun this cell to show the HTML representation or trust the notebook. <br />On GitHub, the HTML representation is unable to render, please try loading this page with nbviewer.org.</b></div><div class=\"sk-container\" hidden><div class=\"sk-item sk-dashed-wrapped\"><div class=\"sk-label-container\"><div class=\"sk-label  sk-toggleable\"><input class=\"sk-toggleable__control sk-hidden--visually\" id=\"sk-estimator-id-1\" type=\"checkbox\" ><label for=\"sk-estimator-id-1\" class=\"sk-toggleable__label  sk-toggleable__label-arrow\"><div><div>ColumnTransformer</div></div><div><a class=\"sk-estimator-doc-link \" rel=\"noreferrer\" target=\"_blank\" href=\"https://scikit-learn.org/1.6/modules/generated/sklearn.compose.ColumnTransformer.html\">?<span>Documentation for ColumnTransformer</span></a><span class=\"sk-estimator-doc-link \">i<span>Not fitted</span></span></div></label><div class=\"sk-toggleable__content \"><pre>ColumnTransformer(transformers=[(&#x27;num&#x27;,\n",
       "                                 Pipeline(steps=[(&#x27;scaler&#x27;, MinMaxScaler())]),\n",
       "                                 [&#x27;HighBP&#x27;, &#x27;HighChol&#x27;, &#x27;CholCheck&#x27;, &#x27;BMI&#x27;,\n",
       "                                  &#x27;Smoker&#x27;, &#x27;Stroke&#x27;, &#x27;HeartDiseaseorAttack&#x27;,\n",
       "                                  &#x27;PhysActivity&#x27;, &#x27;Fruits&#x27;, &#x27;Veggies&#x27;,\n",
       "                                  &#x27;HvyAlcoholConsump&#x27;, &#x27;AnyHealthcare&#x27;,\n",
       "                                  &#x27;NoDocbcCost&#x27;, &#x27;GenHlth&#x27;, &#x27;MentHlth&#x27;,\n",
       "                                  &#x27;PhysHlth&#x27;, &#x27;DiffWalk&#x27;, &#x27;Sex&#x27;, &#x27;Age&#x27;,\n",
       "                                  &#x27;Education&#x27;, &#x27;Income&#x27;])])</pre></div> </div></div><div class=\"sk-parallel\"><div class=\"sk-parallel-item\"><div class=\"sk-item\"><div class=\"sk-label-container\"><div class=\"sk-label  sk-toggleable\"><input class=\"sk-toggleable__control sk-hidden--visually\" id=\"sk-estimator-id-2\" type=\"checkbox\" ><label for=\"sk-estimator-id-2\" class=\"sk-toggleable__label  sk-toggleable__label-arrow\"><div><div>num</div></div></label><div class=\"sk-toggleable__content \"><pre>[&#x27;HighBP&#x27;, &#x27;HighChol&#x27;, &#x27;CholCheck&#x27;, &#x27;BMI&#x27;, &#x27;Smoker&#x27;, &#x27;Stroke&#x27;, &#x27;HeartDiseaseorAttack&#x27;, &#x27;PhysActivity&#x27;, &#x27;Fruits&#x27;, &#x27;Veggies&#x27;, &#x27;HvyAlcoholConsump&#x27;, &#x27;AnyHealthcare&#x27;, &#x27;NoDocbcCost&#x27;, &#x27;GenHlth&#x27;, &#x27;MentHlth&#x27;, &#x27;PhysHlth&#x27;, &#x27;DiffWalk&#x27;, &#x27;Sex&#x27;, &#x27;Age&#x27;, &#x27;Education&#x27;, &#x27;Income&#x27;]</pre></div> </div></div><div class=\"sk-serial\"><div class=\"sk-item\"><div class=\"sk-serial\"><div class=\"sk-item\"><div class=\"sk-estimator  sk-toggleable\"><input class=\"sk-toggleable__control sk-hidden--visually\" id=\"sk-estimator-id-3\" type=\"checkbox\" ><label for=\"sk-estimator-id-3\" class=\"sk-toggleable__label  sk-toggleable__label-arrow\"><div><div>MinMaxScaler</div></div><div><a class=\"sk-estimator-doc-link \" rel=\"noreferrer\" target=\"_blank\" href=\"https://scikit-learn.org/1.6/modules/generated/sklearn.preprocessing.MinMaxScaler.html\">?<span>Documentation for MinMaxScaler</span></a></div></label><div class=\"sk-toggleable__content \"><pre>MinMaxScaler()</pre></div> </div></div></div></div></div></div></div></div></div></div></div>"
      ],
      "text/plain": [
       "ColumnTransformer(transformers=[('num',\n",
       "                                 Pipeline(steps=[('scaler', MinMaxScaler())]),\n",
       "                                 ['HighBP', 'HighChol', 'CholCheck', 'BMI',\n",
       "                                  'Smoker', 'Stroke', 'HeartDiseaseorAttack',\n",
       "                                  'PhysActivity', 'Fruits', 'Veggies',\n",
       "                                  'HvyAlcoholConsump', 'AnyHealthcare',\n",
       "                                  'NoDocbcCost', 'GenHlth', 'MentHlth',\n",
       "                                  'PhysHlth', 'DiffWalk', 'Sex', 'Age',\n",
       "                                  'Education', 'Income'])])"
      ]
     },
     "execution_count": 6,
     "metadata": {},
     "output_type": "execute_result"
    }
   ],
   "source": [
    "from sklearn.compose import ColumnTransformer\n",
    "from sklearn.preprocessing import OneHotEncoder, MinMaxScaler\n",
    "from sklearn.pipeline import Pipeline\n",
    "\n",
    "num_col = x.select_dtypes(include = ['float64']).columns.to_list()\n",
    "\n",
    "numTransformer  = Pipeline(steps=[('scaler', MinMaxScaler())])\n",
    "\n",
    "preprocessor = ColumnTransformer(transformers=[\n",
    "    ('num', numTransformer, num_col)\n",
    "])\n",
    "\n",
    "preprocessor"
   ]
  },
  {
   "cell_type": "code",
   "execution_count": 7,
   "id": "b554fa8f",
   "metadata": {},
   "outputs": [
    {
     "name": "stdout",
     "output_type": "stream",
     "text": [
      "<class 'pandas.core.frame.DataFrame'>\n",
      "RangeIndex: 641109 entries, 0 to 641108\n",
      "Data columns (total 21 columns):\n",
      " #   Column                Non-Null Count   Dtype  \n",
      "---  ------                --------------   -----  \n",
      " 0   HighBP                641109 non-null  float64\n",
      " 1   HighChol              641109 non-null  float64\n",
      " 2   CholCheck             641109 non-null  float64\n",
      " 3   BMI                   641109 non-null  float64\n",
      " 4   Smoker                641109 non-null  float64\n",
      " 5   Stroke                641109 non-null  float64\n",
      " 6   HeartDiseaseorAttack  641109 non-null  float64\n",
      " 7   PhysActivity          641109 non-null  float64\n",
      " 8   Fruits                641109 non-null  float64\n",
      " 9   Veggies               641109 non-null  float64\n",
      " 10  HvyAlcoholConsump     641109 non-null  float64\n",
      " 11  AnyHealthcare         641109 non-null  float64\n",
      " 12  NoDocbcCost           641109 non-null  float64\n",
      " 13  GenHlth               641109 non-null  float64\n",
      " 14  MentHlth              641109 non-null  float64\n",
      " 15  PhysHlth              641109 non-null  float64\n",
      " 16  DiffWalk              641109 non-null  float64\n",
      " 17  Sex                   641109 non-null  float64\n",
      " 18  Age                   641109 non-null  float64\n",
      " 19  Education             641109 non-null  float64\n",
      " 20  Income                641109 non-null  float64\n",
      "dtypes: float64(21)\n",
      "memory usage: 102.7 MB\n"
     ]
    }
   ],
   "source": [
    "x_pre = preprocessor.fit_transform(x)\n",
    "x_pro  = pd.DataFrame(x_pre, columns = num_col)\n",
    "x_pro.head()\n",
    "x_pro.info()\n"
   ]
  },
  {
   "cell_type": "markdown",
   "id": "93c04a00",
   "metadata": {},
   "source": [
    "Separación del modelo para el entrenamiento, ya que esto es un caso clinico, se debe hacer una partición ácida, 90/10"
   ]
  },
  {
   "cell_type": "code",
   "execution_count": 8,
   "id": "947f906e",
   "metadata": {},
   "outputs": [
    {
     "name": "stdout",
     "output_type": "stream",
     "text": [
      "el tamaño de X_train es: (576998, 21), el tamaño de X_test es: (64111, 21)\n",
      "el tamaño de y_train es: (576998, 1), el tamaño de y_test es: (64111, 1)\n"
     ]
    }
   ],
   "source": [
    "from sklearn.model_selection import train_test_split\n",
    "\n",
    "X_train, X_test, Y_train, Y_test = train_test_split(x_pro, y, test_size=0.1, random_state=123)\n",
    "\n",
    "print(f'el tamaño de X_train es: {X_train.shape}, el tamaño de X_test es: {X_test.shape}')\n",
    "print(f'el tamaño de y_train es: {Y_train.shape}, el tamaño de y_test es: {Y_test.shape}')"
   ]
  },
  {
   "cell_type": "markdown",
   "id": "e480eaf7",
   "metadata": {},
   "source": [
    "Vemos que en la separación ambas variables y quedaron balanceadas, ya podemos seguir con el entrenamiento "
   ]
  },
  {
   "cell_type": "markdown",
   "id": "d6d88b72",
   "metadata": {},
   "source": [
    "### 4. Construcción del modelo \n",
    "#### 4.1 LogisticRegression"
   ]
  },
  {
   "cell_type": "code",
   "execution_count": 9,
   "id": "b7751d62",
   "metadata": {},
   "outputs": [],
   "source": [
    "from sklearn.metrics import classification_report, confusion_matrix\n",
    "from sklearn.model_selection import GridSearchCV, RandomizedSearchCV # metodos de busqueda de hiperparametros con validacion cruzada\n"
   ]
  },
  {
   "cell_type": "code",
   "execution_count": null,
   "id": "96e041e5",
   "metadata": {},
   "outputs": [],
   "source": [
    "from sklearn.linear_model import LogisticRegression\n",
    "\n",
    "# dejaremos saga como el metodo para encotnrar la gradiente ya que nos deja\n",
    "\n",
    "model1 = LogisticRegression(solver = 'saga', random_state=123)\n",
    "#si el mejor da en los limites debemos ampliar el rango, si están dos muy iguales investigamos ese rango\n",
    "param_grid = {'penalty': ['l1', 'l2', 'elasticnet'], 'C': [0.0001, 0.001, 0.01, 0.1, 1.0, 10.0, 100.0, 1000.0]} \n",
    "\n",
    "clf_1 = GridSearchCV(estimator=model1, param_grid=param_grid, cv=5, scoring='accuracy') #cv: debe ser impar entero, f1 tiene en cuenta el acuracy y recall\n",
    "clf_1.fit(X_train, Y_train)"
   ]
  },
  {
   "cell_type": "code",
   "execution_count": null,
   "id": "94e5088a",
   "metadata": {},
   "outputs": [],
   "source": [
    "validacion = pd.concat([pd.DataFrame(clf_1.cv_results_['params']),\n",
    "                        pd.DataFrame(clf_1.cv_results_['mean_test_score'], columns=['accuracy'])], axis=1)\n",
    "validacion.sort_values(by='accuracy', ascending=False)"
   ]
  },
  {
   "cell_type": "code",
   "execution_count": null,
   "id": "c4d31ba8",
   "metadata": {},
   "outputs": [],
   "source": [
    "modelo_1_final= clf_1.best_estimator_\n",
    "modelo_1_final"
   ]
  },
  {
   "cell_type": "code",
   "execution_count": null,
   "id": "d8d813dc",
   "metadata": {},
   "outputs": [],
   "source": [
    "y_pred_1_train = modelo_1_final.predict(X_train)\n",
    "\n",
    "\n",
    "print(classification_report(Y_train, y_pred_1_train))\n",
    "print(confusion_matrix(Y_train, y_pred_1_train))\n",
    "sb.heatmap(confusion_matrix(Y_train, y_pred_1_train), annot=True, fmt='d')"
   ]
  },
  {
   "cell_type": "code",
   "execution_count": null,
   "id": "0bac2c4a",
   "metadata": {},
   "outputs": [],
   "source": [
    "y_pred_1_test = modelo_1_final.predict(X_test)\n",
    "\n",
    "print(classification_report(Y_test, y_pred_1_test))\n",
    "print(confusion_matrix(Y_test, y_pred_1_test))\n",
    "sb.heatmap(confusion_matrix(Y_test, y_pred_1_test), annot=True, fmt='d')\n",
    "\n",
    "# columnas prediccion, filas real "
   ]
  },
  {
   "cell_type": "markdown",
   "id": "c963436c",
   "metadata": {},
   "source": [
    "#### 4.2 K-Vecinos"
   ]
  },
  {
   "cell_type": "code",
   "execution_count": null,
   "id": "b401a0e4",
   "metadata": {},
   "outputs": [],
   "source": [
    "from sklearn.neighbors import KNeighborsClassifier\n",
    "\n",
    "modelo_2 = KNeighborsClassifier()\n",
    "param_grid = {'n_neighbors': [3, 5, 7, 19, 21, 53], 'p': [1, 2]} # 1 es manhattan y 2 es euclidiana\n",
    "clf_2 = GridSearchCV(modelo_2, param_grid, cv=5, scoring='f1_weighted')\n",
    "clf_2.fit(X_train, Y_train)\n"
   ]
  },
  {
   "cell_type": "code",
   "execution_count": null,
   "id": "3aaefbfc",
   "metadata": {},
   "outputs": [],
   "source": [
    "validacion = pd.concat([pd.DataFrame(clf_2.cv_results_['params']),\n",
    "                        pd.DataFrame(clf_2.cv_results_['mean_test_score'], columns=['f1_weighted'])], axis=1)\n",
    "validacion.sort_values(by='f1_weighted', ascending=False)"
   ]
  },
  {
   "cell_type": "code",
   "execution_count": null,
   "id": "c50709ce",
   "metadata": {},
   "outputs": [],
   "source": [
    "modelo_2_final = clf_2.best_estimator_\n",
    "modelo_2_final"
   ]
  },
  {
   "cell_type": "code",
   "execution_count": null,
   "id": "4eb04ba0",
   "metadata": {},
   "outputs": [],
   "source": [
    "y_pred_2_train = modelo_2_final.predict(X_train)\n",
    "\n",
    "print(classification_report(Y_train, y_pred_2_train))\n",
    "print(confusion_matrix(Y_train, y_pred_2_train))\n",
    "sb.heatmap(confusion_matrix(Y_train, y_pred_2_train), annot=True, fmt='d')\n"
   ]
  },
  {
   "cell_type": "code",
   "execution_count": null,
   "id": "3166d7ba",
   "metadata": {},
   "outputs": [],
   "source": [
    "y_pred_2_test = modelo_2_final.predict(X_test)\n",
    "\n",
    "print(classification_report(Y_test, y_pred_2_test))\n",
    "print(confusion_matrix(Y_test, y_pred_2_test))\n",
    "sb.heatmap(confusion_matrix(Y_test, y_pred_2_test), annot=True, fmt='d')"
   ]
  },
  {
   "cell_type": "markdown",
   "id": "dda69740",
   "metadata": {},
   "source": [
    "#### 4.3 Maquina de soporte vectorial"
   ]
  },
  {
   "cell_type": "code",
   "execution_count": 10,
   "id": "93bdd5d0",
   "metadata": {},
   "outputs": [
    {
     "ename": "",
     "evalue": "",
     "output_type": "error",
     "traceback": [
      "\u001b[1;31mCannot execute code, session has been disposed. Please try restarting the Kernel."
     ]
    },
    {
     "ename": "",
     "evalue": "",
     "output_type": "error",
     "traceback": [
      "\u001b[1;31mCannot execute code, session has been disposed. Please try restarting the Kernel. \n",
      "\u001b[1;31mView Jupyter <a href='command:jupyter.viewOutput'>log</a> for further details."
     ]
    }
   ],
   "source": [
    "from sklearn.svm import SVC\n",
    "\n",
    "modelo_3 = SVC(random_state= 123) \n",
    "\n",
    "param_grid = {'C': [0.001, 0.01, 0.1, 1.0, 10.0, 100.0],\n",
    "              'kernel': ['linear', 'rbf', 'poly', 'sigmoid'],\n",
    "              'degree': [2, 3, 4]}\n",
    "\n",
    "clf_3 = GridSearchCV(estimator=modelo_3, param_grid=param_grid, cv=5, scoring='f1_weighted')\n",
    "clf_3.fit(X_train, Y_train)"
   ]
  },
  {
   "cell_type": "code",
   "execution_count": null,
   "id": "e01bb205",
   "metadata": {},
   "outputs": [],
   "source": [
    "validation = pd.concat([pd.DataFrame(clf_3.cv_results_['params']),\n",
    "                        pd.DataFrame(clf_3.cv_results_['mean_test_score'], columns=['f1_weighted'])], axis=1)\n",
    "validation.sort_values(by='f1_weighted', ascending=False)"
   ]
  },
  {
   "cell_type": "code",
   "execution_count": null,
   "id": "df9a3c46",
   "metadata": {},
   "outputs": [],
   "source": [
    "modelo_3_final = clf_3.best_estimator_\n",
    "modelo_3_final"
   ]
  },
  {
   "cell_type": "code",
   "execution_count": null,
   "id": "8521a043",
   "metadata": {},
   "outputs": [],
   "source": [
    "y_pred_3_train = modelo_3_final.predict(X_train)\n",
    "\n",
    "print(classification_report(Y_train, y_pred_3_train))\n",
    "print(confusion_matrix(Y_train, y_pred_3_train))\n",
    "sb.heatmap(confusion_matrix(Y_train, y_pred_3_train), annot=True, fmt='d')\n"
   ]
  },
  {
   "cell_type": "code",
   "execution_count": null,
   "id": "e2870af5",
   "metadata": {},
   "outputs": [],
   "source": [
    "y_pred_3_test = modelo_3_final.predict(X_test)\n",
    "\n",
    "print(classification_report(Y_test, y_pred_3_test))\n",
    "print(confusion_matrix(Y_test, y_pred_3_test))\n",
    "sb.heatmap(confusion_matrix(Y_test, y_pred_3_test), annot=True, fmt='d')\n"
   ]
  },
  {
   "cell_type": "markdown",
   "id": "d6b0a8a1",
   "metadata": {},
   "source": [
    "### 5. Evaluación del modelo "
   ]
  },
  {
   "cell_type": "markdown",
   "id": "7adb6a8c",
   "metadata": {},
   "source": []
  }
 ],
 "metadata": {
  "kernelspec": {
   "display_name": "Data",
   "language": "python",
   "name": "python3"
  },
  "language_info": {
   "codemirror_mode": {
    "name": "ipython",
    "version": 3
   },
   "file_extension": ".py",
   "mimetype": "text/x-python",
   "name": "python",
   "nbconvert_exporter": "python",
   "pygments_lexer": "ipython3",
   "version": "3.13.5"
  }
 },
 "nbformat": 4,
 "nbformat_minor": 5
}
